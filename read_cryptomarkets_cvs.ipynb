{
 "cells": [
  {
   "cell_type": "markdown",
   "metadata": {},
   "source": [
    "# Read in Cryptomarkets.cvs into DF\n",
    "\n",
    "## and perform some cleanups"
   ]
  },
  {
   "cell_type": "code",
   "execution_count": 3,
   "metadata": {},
   "outputs": [],
   "source": [
    "import pandas as pd\n",
    "import numpy as np"
   ]
  },
  {
   "cell_type": "code",
   "execution_count": 4,
   "metadata": {},
   "outputs": [
    {
     "name": "stdout",
     "output_type": "stream",
     "text": [
      "      slug symbol     name        date  ranknow    open    high     low  \\\n",
      "0  bitcoin    BTC  Bitcoin  2013-04-28        1  135.30  135.98  132.10   \n",
      "1  bitcoin    BTC  Bitcoin  2013-04-29        1  134.44  147.49  134.00   \n",
      "2  bitcoin    BTC  Bitcoin  2013-04-30        1  144.00  146.93  134.05   \n",
      "3  bitcoin    BTC  Bitcoin  2013-05-01        1  139.00  139.89  107.72   \n",
      "4  bitcoin    BTC  Bitcoin  2013-05-02        1  116.38  125.60   92.28   \n",
      "\n",
      "    close  volume        market  close_ratio  spread  \n",
      "0  134.21     0.0  1.500520e+09       0.5438    3.88  \n",
      "1  144.54     0.0  1.491160e+09       0.7813   13.49  \n",
      "2  139.00     0.0  1.597780e+09       0.3843   12.88  \n",
      "3  116.99     0.0  1.542820e+09       0.2882   32.17  \n",
      "4  105.21     0.0  1.292190e+09       0.3881   33.32  \n"
     ]
    }
   ],
   "source": [
    "#read in crypto-markets.csv in pandas DF\n",
    "df = pd.read_csv('Data/crypto-markets.csv')\n",
    "\n",
    "print(df.head())"
   ]
  },
  {
   "cell_type": "code",
   "execution_count": 16,
   "metadata": {},
   "outputs": [
    {
     "ename": "AttributeError",
     "evalue": "'DataFrame' object has no attribute 'getclass'",
     "output_type": "error",
     "traceback": [
      "\u001b[0;31m---------------------------------------------------------------------------\u001b[0m",
      "\u001b[0;31mAttributeError\u001b[0m                            Traceback (most recent call last)",
      "\u001b[0;32m<ipython-input-16-9227b4d3f7bc>\u001b[0m in \u001b[0;36m<module>\u001b[0;34m()\u001b[0m\n\u001b[1;32m      1\u001b[0m \u001b[0;31m#df_clean = df.drop(columns=['slug','symbol']) will nicht!\u001b[0m\u001b[0;34m\u001b[0m\u001b[0;34m\u001b[0m\u001b[0m\n\u001b[0;32m----> 2\u001b[0;31m \u001b[0mdf\u001b[0m\u001b[0;34m.\u001b[0m\u001b[0mgetclass\u001b[0m\u001b[0;34m(\u001b[0m\u001b[0;34m)\u001b[0m\u001b[0;34m\u001b[0m\u001b[0m\n\u001b[0m",
      "\u001b[0;32m~/anaconda3/lib/python3.6/site-packages/pandas/core/generic.py\u001b[0m in \u001b[0;36m__getattr__\u001b[0;34m(self, name)\u001b[0m\n\u001b[1;32m   3612\u001b[0m             \u001b[0;32mif\u001b[0m \u001b[0mname\u001b[0m \u001b[0;32min\u001b[0m \u001b[0mself\u001b[0m\u001b[0;34m.\u001b[0m\u001b[0m_info_axis\u001b[0m\u001b[0;34m:\u001b[0m\u001b[0;34m\u001b[0m\u001b[0m\n\u001b[1;32m   3613\u001b[0m                 \u001b[0;32mreturn\u001b[0m \u001b[0mself\u001b[0m\u001b[0;34m[\u001b[0m\u001b[0mname\u001b[0m\u001b[0;34m]\u001b[0m\u001b[0;34m\u001b[0m\u001b[0m\n\u001b[0;32m-> 3614\u001b[0;31m             \u001b[0;32mreturn\u001b[0m \u001b[0mobject\u001b[0m\u001b[0;34m.\u001b[0m\u001b[0m__getattribute__\u001b[0m\u001b[0;34m(\u001b[0m\u001b[0mself\u001b[0m\u001b[0;34m,\u001b[0m \u001b[0mname\u001b[0m\u001b[0;34m)\u001b[0m\u001b[0;34m\u001b[0m\u001b[0m\n\u001b[0m\u001b[1;32m   3615\u001b[0m \u001b[0;34m\u001b[0m\u001b[0m\n\u001b[1;32m   3616\u001b[0m     \u001b[0;32mdef\u001b[0m \u001b[0m__setattr__\u001b[0m\u001b[0;34m(\u001b[0m\u001b[0mself\u001b[0m\u001b[0;34m,\u001b[0m \u001b[0mname\u001b[0m\u001b[0;34m,\u001b[0m \u001b[0mvalue\u001b[0m\u001b[0;34m)\u001b[0m\u001b[0;34m:\u001b[0m\u001b[0;34m\u001b[0m\u001b[0m\n",
      "\u001b[0;31mAttributeError\u001b[0m: 'DataFrame' object has no attribute 'getclass'"
     ]
    }
   ],
   "source": [
    "#df_clean = df.drop(columns=['slug','symbol']) will nicht!"
   ]
  },
  {
   "cell_type": "code",
   "execution_count": 10,
   "metadata": {},
   "outputs": [
    {
     "data": {
      "text/plain": [
       "name\n",
       "0x                      222\n",
       "1World                    5\n",
       "2GIVE                   679\n",
       "300 Token               243\n",
       "42-coin                1517\n",
       "808Coin                 608\n",
       "8Bit                   1072\n",
       "ACChain                  44\n",
       "AI Doctor                75\n",
       "AICHAIN                  69\n",
       "ALIS                    165\n",
       "ALQO                    126\n",
       "AMLT Token                3\n",
       "ANRYZE                  119\n",
       "APX                     305\n",
       "ARbit                   971\n",
       "ATBCoin                 188\n",
       "ATLANT                  145\n",
       "ATMChain                173\n",
       "ATMCoin                 206\n",
       "ATN                      73\n",
       "AWARE                    71\n",
       "Abjcoin                 131\n",
       "Abncoin                 418\n",
       "Accelerator Network     121\n",
       "Ace                      88\n",
       "Aces                    576\n",
       "Achain                  181\n",
       "Acoin                  1172\n",
       "Acute Angle Cloud        65\n",
       "                       ... \n",
       "aelf                     95\n",
       "bitBTC                 1197\n",
       "bitCNY                 1260\n",
       "bitEUR                  859\n",
       "bitGold                1033\n",
       "bitJob                  131\n",
       "bitSilver               993\n",
       "bitUSD                 1241\n",
       "bitqy                   211\n",
       "carVertical              63\n",
       "district0x              235\n",
       "e-Gulden               1461\n",
       "eBitcoin                146\n",
       "eBitcoinCash            129\n",
       "eBoost                  293\n",
       "eGold                   145\n",
       "iBank                   406\n",
       "iCoin                   583\n",
       "iDice                   276\n",
       "iEthereum               150\n",
       "iExec RLC               340\n",
       "iQuant                  188\n",
       "iTicoin                 318\n",
       "iXledger                242\n",
       "indaHash                 61\n",
       "netBit                  474\n",
       "onG.social              115\n",
       "ugChain                  72\n",
       "vSlice                  462\n",
       "vTorrent               1061\n",
       "Length: 1584, dtype: int64"
      ]
     },
     "execution_count": 10,
     "metadata": {},
     "output_type": "execute_result"
    }
   ],
   "source": [
    "#count frequency of each curreny to determine which currencys we can drop\n",
    "df_grouped = df.groupby('name').size()\n",
    "df_grouped"
   ]
  },
  {
   "cell_type": "code",
   "execution_count": 18,
   "metadata": {},
   "outputs": [
    {
     "data": {
      "text/plain": [
       "name\n",
       "0x                      667.0\n",
       "1World                   14.5\n",
       "2GIVE                  1174.0\n",
       "300 Token               706.5\n",
       "42-coin                1539.0\n",
       "808Coin                1118.0\n",
       "8Bit                   1350.0\n",
       "ACChain                  98.5\n",
       "AI Doctor               257.0\n",
       "AICHAIN                 209.0\n",
       "ALIS                    539.5\n",
       "ALQO                    395.5\n",
       "AMLT Token                6.5\n",
       "ANRYZE                  370.5\n",
       "APX                     835.0\n",
       "ARbit                  1311.0\n",
       "ATBCoin                 603.0\n",
       "ATLANT                  462.0\n",
       "ATMChain                562.0\n",
       "ATMCoin                 633.5\n",
       "ATN                     237.0\n",
       "AWARE                   222.0\n",
       "Abjcoin                 416.0\n",
       "Abncoin                 972.5\n",
       "Accelerator Network     377.0\n",
       "Ace                     293.5\n",
       "Aces                   1101.0\n",
       "Achain                  583.0\n",
       "Acoin                  1386.5\n",
       "Acute Angle Cloud       182.0\n",
       "                        ...  \n",
       "aelf                    307.0\n",
       "bitBTC                 1392.0\n",
       "bitCNY                 1418.0\n",
       "bitEUR                 1269.0\n",
       "bitGold                1335.0\n",
       "bitJob                  416.0\n",
       "bitSilver              1320.0\n",
       "bitUSD                 1412.0\n",
       "bitqy                   646.0\n",
       "carVertical             169.0\n",
       "district0x              694.0\n",
       "e-Gulden               1511.0\n",
       "eBitcoin                468.0\n",
       "eBitcoinCash            407.5\n",
       "eBoost                  824.5\n",
       "eGold                   462.0\n",
       "iBank                   955.5\n",
       "iCoin                  1103.5\n",
       "iDice                   801.0\n",
       "iEthereum               486.5\n",
       "iExec RLC               881.0\n",
       "iQuant                  603.0\n",
       "iTicoin                 851.5\n",
       "iXledger                704.0\n",
       "indaHash                156.5\n",
       "netBit                 1012.5\n",
       "onG.social              363.5\n",
       "ugChain                 226.5\n",
       "vSlice                 1004.0\n",
       "vTorrent               1342.5\n",
       "Length: 1584, dtype: float64"
      ]
     },
     "execution_count": 18,
     "metadata": {},
     "output_type": "execute_result"
    }
   ],
   "source": [
    "df_ranked = df_grouped.rank()\n",
    "df_ranked"
   ]
  },
  {
   "cell_type": "code",
   "execution_count": 42,
   "metadata": {},
   "outputs": [
    {
     "ename": "NameError",
     "evalue": "name 'df_ra' is not defined",
     "output_type": "error",
     "traceback": [
      "\u001b[0;31m---------------------------------------------------------------------------\u001b[0m",
      "\u001b[0;31mNameError\u001b[0m                                 Traceback (most recent call last)",
      "\u001b[0;32m<ipython-input-42-a3a7c82e8ace>\u001b[0m in \u001b[0;36m<module>\u001b[0;34m()\u001b[0m\n\u001b[0;32m----> 1\u001b[0;31m \u001b[0mdf_ra\u001b[0m\u001b[0;34m\u001b[0m\u001b[0m\n\u001b[0m",
      "\u001b[0;31mNameError\u001b[0m: name 'df_ra' is not defined"
     ]
    }
   ],
   "source": []
  },
  {
   "cell_type": "code",
   "execution_count": null,
   "metadata": {},
   "outputs": [],
   "source": []
  }
 ],
 "metadata": {
  "kernelspec": {
   "display_name": "Python 3",
   "language": "python",
   "name": "python3"
  },
  "language_info": {
   "codemirror_mode": {
    "name": "ipython",
    "version": 3
   },
   "file_extension": ".py",
   "mimetype": "text/x-python",
   "name": "python",
   "nbconvert_exporter": "python",
   "pygments_lexer": "ipython3",
   "version": "3.6.4"
  }
 },
 "nbformat": 4,
 "nbformat_minor": 2
}
