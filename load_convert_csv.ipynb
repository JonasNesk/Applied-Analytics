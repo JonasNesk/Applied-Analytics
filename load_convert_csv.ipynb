{
 "cells": [
  {
   "cell_type": "markdown",
   "metadata": {},
   "source": [
    "import csv\n",
    "import inspect, os\n",
    "import requests\n",
    "import tarfile\n",
    "import pandas as pd\n",
    "\n",
    "\n",
    "# get the data\n",
    "url = 'https://coinmetrics.io/data/all.tar.gz'  #data URL\n",
    "r = requests.get(url) #call URL\n",
    "\n",
    "#save file as \"crypto.tar.gz\"\n",
    "with open('Data/crypto.tar.gz', 'wb') as f:  \n",
    "    f.write(r.content)\n",
    "\n",
    "#extract .tar.gz and save to folder \"crypto\" in Data folder\n",
    "tar = tarfile.open('Data/crypto.tar.gz') \n",
    "tar.extractall(path='Data/crypto')\n",
    "tar.close() \n",
    "\n",
    "\n",
    "for file in os.listdir(os.getcwd() + '/Data/crypto'):\n",
    "    if file.endswith(\".csv\"):\n",
    "                 \n",
    "        filename = os.path.splitext(file)[0] #ohne endung\n",
    "        filename2 = (os.path.normpath(file)) # mit endung\n",
    "\n",
    "        #filepath_in = os.path.realpath(file) schneidet letzte zwei Ordner weg, deswegen die Zeile drunter\n",
    "        filepath_in = os.path.dirname(os.path.abspath(file)) + \"/Data/crypto/\" + filename2\n",
    "        filepath_out = filepath_in[0:-4] + \"_neu\" + \".csv\"\n",
    "        if \"neu\" not in filename:\n",
    "            with open(filepath_in,'r') as csvinput:\n",
    "                with open(filepath_out, 'w') as csvoutput:\n",
    "                    os.remove(filepath_in)\n",
    "                    writer = csv.writer(csvoutput, lineterminator='\\n')\n",
    "                    reader = csv.reader(csvinput)\n",
    "\n",
    "                    all = []\n",
    "                    row = next(reader)\n",
    "\n",
    "                    row.append('currencyName')\n",
    "                    all.append(row)\n",
    "                    row_length = len(row)\n",
    "\n",
    "                    for row in reader:\n",
    "                        try:\n",
    "                            row[row_length-1] = filename\n",
    "                            all.append(row)\n",
    "                        except:\n",
    "                            print(\"Schonmal konvertiert\")\n",
    "                    \n",
    "                    writer.writerows(all)"
   ]
  },
  {
   "cell_type": "code",
   "execution_count": null,
   "metadata": {},
   "outputs": [],
   "source": []
  }
 ],
 "metadata": {
  "kernelspec": {
   "display_name": "Python 3",
   "language": "python",
   "name": "python3"
  },
  "language_info": {
   "codemirror_mode": {
    "name": "ipython",
    "version": 3
   },
   "file_extension": ".py",
   "mimetype": "text/x-python",
   "name": "python",
   "nbconvert_exporter": "python",
   "pygments_lexer": "ipython3",
   "version": "3.6.4"
  }
 },
 "nbformat": 4,
 "nbformat_minor": 2
}
