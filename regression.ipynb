{
 "cells": [
  {
   "cell_type": "code",
   "execution_count": 1,
   "metadata": {
    "scrolled": true
   },
   "outputs": [
    {
     "name": "stdout",
     "output_type": "stream",
     "text": [
      "starting Regression\n",
      "data collected\n",
      "      slug symbol     name        date  ranknow    open    high     low  \\\n",
      "0  bitcoin    BTC  Bitcoin  2013-04-28        1  135.30  135.98  132.10   \n",
      "1  bitcoin    BTC  Bitcoin  2013-04-29        1  134.44  147.49  134.00   \n",
      "2  bitcoin    BTC  Bitcoin  2013-04-30        1  144.00  146.93  134.05   \n",
      "3  bitcoin    BTC  Bitcoin  2013-05-01        1  139.00  139.89  107.72   \n",
      "4  bitcoin    BTC  Bitcoin  2013-05-02        1  116.38  125.60   92.28   \n",
      "\n",
      "    close  volume        market  close_ratio  spread  \n",
      "0  134.21     0.0  1.500520e+09       0.5438    3.88  \n",
      "1  144.54     0.0  1.491160e+09       0.7813   13.49  \n",
      "2  139.00     0.0  1.597780e+09       0.3843   12.88  \n",
      "3  116.99     0.0  1.542820e+09       0.2882   32.17  \n",
      "4  105.21     0.0  1.292190e+09       0.3881   33.32  \n"
     ]
    }
   ],
   "source": [
    "\"\"\"\n",
    "Führt Regressionsanalyse durch\n",
    "\n",
    "\"\"\"\n",
    "import pandas as pd\n",
    "import numpy as np\n",
    "\n",
    "\n",
    "\n",
    "#Initmessage\n",
    "print (\"starting Regression\") \n",
    "\n",
    "#lade von CSV\n",
    "data_frame_investigated = pd.read_csv(\"Data/crypto-markets.csv\", sep=\",\" )\n",
    "\n",
    "\n",
    "print(\"data collected\")\n",
    "\n",
    "print(data_frame_investigated.head())"
   ]
  },
  {
   "cell_type": "code",
   "execution_count": 2,
   "metadata": {},
   "outputs": [
    {
     "name": "stdout",
     "output_type": "stream",
     "text": [
      "      slug        date  ranknow    open    high     low   close  volume  \\\n",
      "0  bitcoin  2013-04-28        1  135.30  135.98  132.10  134.21     0.0   \n",
      "1  bitcoin  2013-04-29        1  134.44  147.49  134.00  144.54     0.0   \n",
      "2  bitcoin  2013-04-30        1  144.00  146.93  134.05  139.00     0.0   \n",
      "3  bitcoin  2013-05-01        1  139.00  139.89  107.72  116.99     0.0   \n",
      "4  bitcoin  2013-05-02        1  116.38  125.60   92.28  105.21     0.0   \n",
      "\n",
      "         market  close_ratio  spread  \n",
      "0  1.500520e+09       0.5438    3.88  \n",
      "1  1.491160e+09       0.7813   13.49  \n",
      "2  1.597780e+09       0.3843   12.88  \n",
      "3  1.542820e+09       0.2882   32.17  \n",
      "4  1.292190e+09       0.3881   33.32  \n"
     ]
    }
   ],
   "source": [
    "#eliminiere redundante Attribute\n",
    "REDUNDANT_ATTRIBUTES=['symbol','name'] \n",
    "data_frame_investigated.drop(REDUNDANT_ATTRIBUTES,axis=1,inplace=True) #loeschen aus Dataframe\n",
    "\n",
    "#set Date as Index\n",
    "\n",
    "\n",
    "print(data_frame_investigated.head())\n"
   ]
  },
  {
   "cell_type": "code",
   "execution_count": 3,
   "metadata": {
    "scrolled": true
   },
   "outputs": [],
   "source": [
    "\n",
    "from sklearn.model_selection import train_test_split #library fuer Split\n",
    "from sklearn import linear_model #lineare Regression\n",
    "import math #import fuer msqError\n",
    "from sklearn.metrics import mean_squared_error\n",
    "\n",
    "#dependency :patsy\n",
    "\n",
    "def cryptoregress(crypto_id, feature_to_compare,crypto_id_feature_name=\"slug\",\n",
    "                 documentMode=False):\n",
    "    \"\"\"\n",
    "    lineare Regression zur Bestimmung eines Features anhand gleichen Features der anderen Cryptos\n",
    "    \"\"\"\n",
    "    #Cryptos Gruppieren\n",
    "    \n",
    "    #ich kann nur anhand von Tagen schliessen, an denen die Crypto Existiert\n",
    "    #erstmal alle Tage holen an denen die Crypto gehandelt wird\n",
    "    dates_of_crypto_trade= data_frame_investigated[\n",
    "        data_frame_investigated[crypto_id_feature_name] == crypto_id\n",
    "    ]['date']\n",
    "    \n",
    "\n",
    "   \n",
    "    if documentMode: print(dates_of_crypto_trade.head())\n",
    "    \n",
    "    #dann die Tupel Filtern, nur die Tage an denen Crypto getraded wird uebernehmen,\n",
    "    #nur compare feature uebernehmen\n",
    "    data_frame_id_exists= data_frame_investigated[\n",
    "        data_frame_investigated['date'].isin(dates_of_crypto_trade)\n",
    "    ][['date',crypto_id_feature_name,feature_to_compare]]\n",
    "    \n",
    "    \n",
    "    \n",
    "    #daten Pivotieren so dass Cryptos zu columns werden\n",
    "    data_frame_id_exists= data_frame_id_exists.pivot(\n",
    "        index='date', columns=crypto_id_feature_name, values=feature_to_compare\n",
    "        ).reset_index()\n",
    "    \n",
    "    \n",
    "    #collumns loeschen die Nullwerte enthalten\n",
    "    data_frame_id_exists=data_frame_id_exists.dropna(axis='columns')\n",
    " \n",
    "    \n",
    "   # data_frame_id_exists=data_frame_id_exists.fillna(value=0)\n",
    "    \n",
    "    \n",
    "   \n",
    "    #date rausloeschen\n",
    "    data_frame_id_exists.drop('date',axis=1,inplace=True)\n",
    "    if documentMode: print(\"cleaned Frame\")\n",
    "    if documentMode: print(data_frame_id_exists.head())\n",
    "    \n",
    "    ###############Train Test Split:\n",
    "    #Ergebnis vom Features trennen:\n",
    "    Y = data_frame_id_exists[[crypto_id]]\n",
    "    data_frame_id_exists.drop(crypto_id,axis=1, inplace = True)\n",
    "    if documentMode: print(\"Regress to:\")\n",
    "    if documentMode: print(Y.head())\n",
    "\n",
    "    \n",
    "        \n",
    "    feature_train, feature_test, y_train, y_test = train_test_split (\n",
    "        data_frame_id_exists,\n",
    "        Y,\n",
    "        test_size=0.1\n",
    "    )\n",
    "\n",
    "    ##############Regressionsmodell machen\n",
    "    regression_model = linear_model.LinearRegression(\n",
    "        fit_intercept=True, normalize=False, copy_X=True, n_jobs=-1)\n",
    "\n",
    "\n",
    "        #regressionsmodell fitten\n",
    "    regression_model.fit(feature_train, y_train)\n",
    "    Rsquared_train = regression_model.score(feature_train,y_train)\n",
    "    Rsqared_test = regression_model.score(feature_test,y_test)\n",
    "    MeanError_train = math.sqrt( mean_squared_error(regression_model.predict(feature_test),y_test))\n",
    "    MeanError_test = math.sqrt( mean_squared_error(regression_model.predict(feature_train),y_train))\n",
    "                                    \n",
    "    if documentMode: print(\"RSquared train:\",Rsquared_train)\n",
    "    if documentMode: print(\"RSquared test:\",Rsqared_test)\n",
    "    if documentMode: print(\"MeanSqure train:\", MeanError_train)\n",
    "    if documentMode: print(\"MeanSqure test:\", MeanError_test)\n",
    "    \n",
    "    return [regression_model,\n",
    "            Rsquared_train,\n",
    "            Rsqared_test,\n",
    "            MeanError_train,\n",
    "            MeanError_test,\n",
    "            list(data_frame_id_exists),\n",
    "           ]\n",
    "       \n",
    "\n",
    "    \n",
    "\n",
    "\n",
    "regression_result=cryptoregress('bitcoin','close')\n",
    "\n",
    "    \n",
    "    \n",
    "    \n",
    "    \n",
    "    "
   ]
  },
  {
   "cell_type": "code",
   "execution_count": 4,
   "metadata": {},
   "outputs": [
    {
     "name": "stdout",
     "output_type": "stream",
     "text": [
      "[LinearRegression(copy_X=True, fit_intercept=True, n_jobs=-1, normalize=False), 0.9323972551645056, 0.9372010914492824, 658.6284712639068, 889.5145139725108, ['litecoin', 'namecoin']]\n"
     ]
    }
   ],
   "source": [
    "print(regression_result)"
   ]
  },
  {
   "cell_type": "code",
   "execution_count": 5,
   "metadata": {},
   "outputs": [
    {
     "name": "stdout",
     "output_type": "stream",
     "text": [
      "['bitcoin' 'ethereum' 'ripple' ... 'sisa' 'entcash' 'numuscash']\n"
     ]
    }
   ],
   "source": [
    "#make a  list of the different coins\n",
    "different_coins = data_frame_investigated.slug.unique()\n",
    "print(different_coins)"
   ]
  },
  {
   "cell_type": "code",
   "execution_count": 6,
   "metadata": {},
   "outputs": [],
   "source": [
    "#iteriere durch die Liste und fuehre Regressionsanalyse durch\n",
    "list_regression = []\n",
    "zaehler=0\n",
    "if False:\n",
    "    for current_coin_to_regress in different_coins:\n",
    "        list_regression.append(\n",
    "            {\n",
    "                'name':current_coin_to_regress,\n",
    "                'RsquaredTest': cryptoregress(current_coin_to_regress,'close')[2]\n",
    "            }) #fuege ergebnis zur Ergebnistabelle hinzu\n",
    "        zaehler=zaehler+1\n",
    "        print(\"regressed Number \", zaehler, \" von \", len(different_coins))\n",
    "        if zaehler == 1300: break\n",
    "\n",
    "    zaehler= 0\n",
    "    df_regression_result=pd.DataFrame(list_regression)\n",
    "    print(df_regression_result)"
   ]
  },
  {
   "cell_type": "code",
   "execution_count": 7,
   "metadata": {},
   "outputs": [],
   "source": [
    "#df_regression_result.to_csv(\"regression_results.csv\",sep=',') #Regrssionsergebnisse in csv Speichern"
   ]
  },
  {
   "cell_type": "code",
   "execution_count": 8,
   "metadata": {},
   "outputs": [
    {
     "ename": "SyntaxError",
     "evalue": "keyword argument repeated (<ipython-input-8-b8cbf47d4d76>, line 34)",
     "output_type": "error",
     "traceback": [
      "\u001b[1;36m  File \u001b[1;32m\"<ipython-input-8-b8cbf47d4d76>\"\u001b[1;36m, line \u001b[1;32m34\u001b[0m\n\u001b[1;33m    xaxis = dict(range=[0, 1], title = 'kumulierte Verteilung')\u001b[0m\n\u001b[1;37m    ^\u001b[0m\n\u001b[1;31mSyntaxError\u001b[0m\u001b[1;31m:\u001b[0m keyword argument repeated\n"
     ]
    }
   ],
   "source": [
    "######Importiere Plotly Tools\n",
    "from plotly import tools\n",
    "import plotly.offline as py\n",
    "py.init_notebook_mode(connected=True)\n",
    "import plotly.graph_objs as go \n",
    "\n",
    "\"\"\"\n",
    "Graphische Darstellung von der Verteilung von Rsquared als Histogramm\n",
    "\"\"\"\n",
    "\n",
    "\n",
    "df_regression_result = pd.read_csv(\"regression_results.csv\",sep=',') #Regressionsergebnisse wieder reinladen\n",
    "\n",
    "\n",
    "#Histogrammobjekt erstellen\n",
    "trace0 = go.Histogram(\n",
    "    x= df_regression_result['RsquaredTest'],histnorm='probability',\n",
    "    autobinx=False,\n",
    "    xbins=dict(\n",
    "        start=0,\n",
    "        end=1,\n",
    "        size=0.01\n",
    "    ),\n",
    "    cumulative=dict(enabled=True)\n",
    "    \n",
    "           \n",
    "\n",
    ")\n",
    "\n",
    "data = [trace0]\n",
    "layout = go.Layout(\n",
    "    title='RSquared Verteilung',\n",
    "    xaxis = dict(range=[0, 1], title = 'Rsquared Werte der Coin Regressionen'),\n",
    "    xaxis = dict(range=[0, 1], title = 'kumulierte Verteilung')\n",
    "\n",
    ")\n",
    "fig = go.Figure(data=data, layout=layout)\n",
    "py.iplot(fig, filename='cryto-regression')"
   ]
  },
  {
   "cell_type": "code",
   "execution_count": null,
   "metadata": {},
   "outputs": [],
   "source": []
  }
 ],
 "metadata": {
  "kernelspec": {
   "display_name": "Python 3",
   "language": "python",
   "name": "python3"
  },
  "language_info": {
   "codemirror_mode": {
    "name": "ipython",
    "version": 3
   },
   "file_extension": ".py",
   "mimetype": "text/x-python",
   "name": "python",
   "nbconvert_exporter": "python",
   "pygments_lexer": "ipython3",
   "version": "3.6.5"
  }
 },
 "nbformat": 4,
 "nbformat_minor": 2
}
