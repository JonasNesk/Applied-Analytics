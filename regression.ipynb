{
 "cells": [
  {
   "cell_type": "code",
   "execution_count": 27,
   "metadata": {
    "scrolled": true
   },
   "outputs": [
    {
     "name": "stdout",
     "output_type": "stream",
     "text": [
      "starting Regression\n",
      "data collected\n",
      "      slug symbol     name        date  ranknow    open    high     low  \\\n",
      "0  bitcoin    BTC  Bitcoin  2013-04-28        1  135.30  135.98  132.10   \n",
      "1  bitcoin    BTC  Bitcoin  2013-04-29        1  134.44  147.49  134.00   \n",
      "2  bitcoin    BTC  Bitcoin  2013-04-30        1  144.00  146.93  134.05   \n",
      "3  bitcoin    BTC  Bitcoin  2013-05-01        1  139.00  139.89  107.72   \n",
      "4  bitcoin    BTC  Bitcoin  2013-05-02        1  116.38  125.60   92.28   \n",
      "\n",
      "    close  volume        market  close_ratio  spread  \n",
      "0  134.21     0.0  1.500520e+09       0.5438    3.88  \n",
      "1  144.54     0.0  1.491160e+09       0.7813   13.49  \n",
      "2  139.00     0.0  1.597780e+09       0.3843   12.88  \n",
      "3  116.99     0.0  1.542820e+09       0.2882   32.17  \n",
      "4  105.21     0.0  1.292190e+09       0.3881   33.32  \n"
     ]
    }
   ],
   "source": [
    "\"\"\"\n",
    "Führt Regressionsanalyse durch\n",
    "\n",
    "\"\"\"\n",
    "import pandas as pd\n",
    "import numpy as np\n",
    "\n",
    "\n",
    "\n",
    "#Initmessage\n",
    "print (\"starting Regression\") \n",
    "\n",
    "#lade von CSV\n",
    "data_frame_investigated = pd.read_csv(\"Data/crypto-markets.csv\", sep=\",\" )\n",
    "\n",
    "\n",
    "print(\"data collected\")\n",
    "\n",
    "print(data_frame_investigated.head())"
   ]
  },
  {
   "cell_type": "code",
   "execution_count": 28,
   "metadata": {},
   "outputs": [
    {
     "name": "stdout",
     "output_type": "stream",
     "text": [
      "      slug        date  ranknow    open    high     low   close  volume  \\\n",
      "0  bitcoin  2013-04-28        1  135.30  135.98  132.10  134.21     0.0   \n",
      "1  bitcoin  2013-04-29        1  134.44  147.49  134.00  144.54     0.0   \n",
      "2  bitcoin  2013-04-30        1  144.00  146.93  134.05  139.00     0.0   \n",
      "3  bitcoin  2013-05-01        1  139.00  139.89  107.72  116.99     0.0   \n",
      "4  bitcoin  2013-05-02        1  116.38  125.60   92.28  105.21     0.0   \n",
      "\n",
      "         market  close_ratio  spread  \n",
      "0  1.500520e+09       0.5438    3.88  \n",
      "1  1.491160e+09       0.7813   13.49  \n",
      "2  1.597780e+09       0.3843   12.88  \n",
      "3  1.542820e+09       0.2882   32.17  \n",
      "4  1.292190e+09       0.3881   33.32  \n"
     ]
    }
   ],
   "source": [
    "#eliminiere redundante Attribute\n",
    "REDUNDANT_ATTRIBUTES=['symbol','name'] \n",
    "data_frame_investigated.drop(REDUNDANT_ATTRIBUTES,axis=1,inplace=True) #loeschen aus Dataframe\n",
    "\n",
    "#set Date as Index\n",
    "\n",
    "\n",
    "print(data_frame_investigated.head())\n"
   ]
  },
  {
   "cell_type": "code",
   "execution_count": 52,
   "metadata": {
    "scrolled": true
   },
   "outputs": [
    {
     "name": "stdout",
     "output_type": "stream",
     "text": [
      "0    2013-04-28\n",
      "1    2013-04-29\n",
      "2    2013-04-30\n",
      "3    2013-05-01\n",
      "4    2013-05-02\n",
      "Name: date, dtype: object\n",
      "cleaned Frame\n",
      "slug   0x  1337coin  1world  2give  300-token  42-coin  808coin  8bit  \\\n",
      "0     0.0       0.0     0.0    0.0        0.0      0.0      0.0   0.0   \n",
      "1     0.0       0.0     0.0    0.0        0.0      0.0      0.0   0.0   \n",
      "2     0.0       0.0     0.0    0.0        0.0      0.0      0.0   0.0   \n",
      "3     0.0       0.0     0.0    0.0        0.0      0.0      0.0   0.0   \n",
      "4     0.0       0.0     0.0    0.0        0.0      0.0      0.0   0.0   \n",
      "\n",
      "slug  abjcoin  abncoin   ...     zeusshield  zilbercoin  zilla  zilliqa  zoin  \\\n",
      "0         0.0      0.0   ...            0.0         0.0    0.0      0.0   0.0   \n",
      "1         0.0      0.0   ...            0.0         0.0    0.0      0.0   0.0   \n",
      "2         0.0      0.0   ...            0.0         0.0    0.0      0.0   0.0   \n",
      "3         0.0      0.0   ...            0.0         0.0    0.0      0.0   0.0   \n",
      "4         0.0      0.0   ...            0.0         0.0    0.0      0.0   0.0   \n",
      "\n",
      "slug  zonecoin  zozocoin  zrcoin  zsecoin  zurcoin  \n",
      "0          0.0       0.0     0.0      0.0      0.0  \n",
      "1          0.0       0.0     0.0      0.0      0.0  \n",
      "2          0.0       0.0     0.0      0.0      0.0  \n",
      "3          0.0       0.0     0.0      0.0      0.0  \n",
      "4          0.0       0.0     0.0      0.0      0.0  \n",
      "\n",
      "[5 rows x 1586 columns]\n",
      "Regress to:\n",
      "slug  bitcoin\n",
      "0      134.21\n",
      "1      144.54\n",
      "2      139.00\n",
      "3      116.99\n",
      "4      105.21\n",
      "RSquared train: 0.9999777606109242\n",
      "RSquared test: -9.993421691249466e+17\n",
      "MeanSqure train: 3209619460037.699\n",
      "MeanSqure test: 14.72132459991671\n"
     ]
    }
   ],
   "source": [
    "\n",
    "from sklearn.model_selection import train_test_split #library fuer Split\n",
    "from sklearn import linear_model #lineare Regression\n",
    "import math #import fuer msqError\n",
    "from sklearn.metrics import mean_squared_error\n",
    "\n",
    "#dependency :patsy\n",
    "\n",
    "def cryptoregress(crypto_id, feature_to_compare,crypto_id_feature_name=\"slug\"):\n",
    "    \"\"\"\n",
    "    lineare Regression zur Bestimmung eines Features anhand gleichen Features der anderen Cryptos\n",
    "    \"\"\"\n",
    "    #Cryptos Gruppieren\n",
    "    \n",
    "    #ich kann nur anhand von Tagen schliessen, an denen die Crypto Existiert\n",
    "    #erstmal alle Tage holen an denen die Crypto gehandelt wird\n",
    "    dates_of_crypto_trade= data_frame_investigated[\n",
    "        data_frame_investigated[crypto_id_feature_name] == crypto_id\n",
    "    ]['date']\n",
    "    \n",
    "   \n",
    "    print(dates_of_crypto_trade.head())\n",
    "    \n",
    "    #dann die Tupel Filtern, nur die Tage an denen Crypto getraded wird uebernehmen,\n",
    "    #nur compare feature uebernehmen\n",
    "    data_frame_id_exists= data_frame_investigated[\n",
    "        data_frame_investigated['date'].isin(dates_of_crypto_trade)\n",
    "    ][['date',crypto_id_feature_name,feature_to_compare]]\n",
    "    \n",
    "    #daten Pivotieren so dass Cryptos zu columns werden\n",
    "    data_frame_id_exists= data_frame_id_exists.pivot(\n",
    "        index='date', columns=crypto_id_feature_name, values=feature_to_compare\n",
    "        ).reset_index()\n",
    "    \n",
    " \n",
    "    \n",
    "    data_frame_id_exists=data_frame_id_exists.fillna(value=0)\n",
    "    #data_frame_id_exists=data_frame_id_exists.dropna()\n",
    "    \n",
    "   \n",
    "    #date rausloeschen\n",
    "    data_frame_id_exists.drop('date',axis=1,inplace=True)\n",
    "    print(\"cleaned Frame\")\n",
    "    print(data_frame_id_exists.head())\n",
    "    \n",
    "    ###############Train Test Split:\n",
    "    #Ergebnis vom Features trennen:\n",
    "    Y = data_frame_id_exists[[crypto_id]]\n",
    "    data_frame_id_exists.drop(crypto_id,axis=1, inplace = True)\n",
    "    print(\"Regress to:\")\n",
    "    print(Y.head())\n",
    "\n",
    "    \n",
    "        \n",
    "    feature_train, feature_test, y_train, y_test = train_test_split (\n",
    "        data_frame_id_exists,\n",
    "        Y,\n",
    "        test_size=0.1\n",
    "    )\n",
    "\n",
    "    ##############Regressionsmodell machen\n",
    "    regression_model = linear_model.LinearRegression(\n",
    "        fit_intercept=True, normalize=True, copy_X=True, n_jobs=-1)\n",
    "\n",
    "\n",
    "        #regressionsmodell fitten\n",
    "    regression_model.fit(feature_train, y_train)\n",
    "    print(\"RSquared train:\",regression_model.score(feature_train,y_train ))\n",
    "    print(\"RSquared test:\",regression_model.score(feature_test,y_test ))\n",
    "    print(\"MeanSqure train:\", math.sqrt( mean_squared_error(regression_model.predict(feature_test),y_test)))\n",
    "    print(\"MeanSqure test:\", math.sqrt( mean_squared_error(regression_model.predict(feature_train),y_train)))\n",
    "    \n",
    "    return regression_model \n",
    "       \n",
    "\n",
    "    \n",
    "\n",
    "\n",
    "regression_result=cryptoregress('bitcoin','close')\n",
    "\n",
    "    \n",
    "    \n",
    "    "
   ]
  },
  {
   "cell_type": "code",
   "execution_count": 30,
   "metadata": {},
   "outputs": [
    {
     "ename": "NameError",
     "evalue": "name 'X_train' is not defined",
     "output_type": "error",
     "traceback": [
      "\u001b[1;31m---------------------------------------------------------------------------\u001b[0m",
      "\u001b[1;31mNameError\u001b[0m                                 Traceback (most recent call last)",
      "\u001b[1;32m<ipython-input-30-12934b8912c9>\u001b[0m in \u001b[0;36m<module>\u001b[1;34m()\u001b[0m\n\u001b[0;32m      1\u001b[0m \u001b[1;31m#zeige mir die Koeffizienten\u001b[0m\u001b[1;33m\u001b[0m\u001b[1;33m\u001b[0m\u001b[0m\n\u001b[1;32m----> 2\u001b[1;33m \u001b[1;32mfor\u001b[0m \u001b[0mcryptoiterator\u001b[0m\u001b[1;33m,\u001b[0m \u001b[0mcol_name\u001b[0m \u001b[1;32min\u001b[0m \u001b[0menumerate\u001b[0m\u001b[1;33m(\u001b[0m\u001b[0mX_train\u001b[0m\u001b[1;33m.\u001b[0m\u001b[0mcolumns\u001b[0m\u001b[1;33m)\u001b[0m\u001b[1;33m:\u001b[0m\u001b[1;33m\u001b[0m\u001b[0m\n\u001b[0m\u001b[0;32m      3\u001b[0m     \u001b[0mprint\u001b[0m\u001b[1;33m(\u001b[0m\u001b[1;34m\"The coefficient for {} is {}\"\u001b[0m\u001b[1;33m.\u001b[0m\u001b[0mformat\u001b[0m\u001b[1;33m(\u001b[0m\u001b[0mcol_name\u001b[0m\u001b[1;33m,\u001b[0m \u001b[0mregression_result\u001b[0m\u001b[1;33m.\u001b[0m\u001b[0mcoef_\u001b[0m\u001b[1;33m[\u001b[0m\u001b[1;36m0\u001b[0m\u001b[1;33m]\u001b[0m\u001b[1;33m[\u001b[0m\u001b[0mcryptoiterator\u001b[0m\u001b[1;33m]\u001b[0m\u001b[1;33m)\u001b[0m\u001b[1;33m)\u001b[0m\u001b[1;33m\u001b[0m\u001b[0m\n",
      "\u001b[1;31mNameError\u001b[0m: name 'X_train' is not defined"
     ]
    }
   ],
   "source": [
    "#zeige mir die Koeffizienten\n",
    "for cryptoiterator, col_name in enumerate(X_train.columns):\n",
    "    print(\"The coefficient for {} is {}\".format(col_name, regression_result.coef_[0][cryptoiterator]))"
   ]
  },
  {
   "cell_type": "code",
   "execution_count": null,
   "metadata": {},
   "outputs": [],
   "source": [
    "max(regression_result.coef_)"
   ]
  }
 ],
 "metadata": {
  "kernelspec": {
   "display_name": "Python 3",
   "language": "python",
   "name": "python3"
  },
  "language_info": {
   "codemirror_mode": {
    "name": "ipython",
    "version": 3
   },
   "file_extension": ".py",
   "mimetype": "text/x-python",
   "name": "python",
   "nbconvert_exporter": "python",
   "pygments_lexer": "ipython3",
   "version": "3.6.5"
  }
 },
 "nbformat": 4,
 "nbformat_minor": 2
}
