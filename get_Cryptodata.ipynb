{
 "cells": [
  {
   "cell_type": "markdown",
   "metadata": {},
   "source": [
    "## Lade aktualle Cryptodaten herunter"
   ]
  },
  {
   "cell_type": "code",
   "execution_count": 3,
   "metadata": {},
   "outputs": [
    {
     "name": "stdout",
     "output_type": "stream",
     "text": [
      "[1] \" \"\n",
      "Retrieves coin market history from CoinMarketCap. [1] \" \"\n",
      "\r",
      "  |                                                                            \r",
      "  |                                                                      |   0%"
     ]
    },
    {
     "name": "stderr",
     "output_type": "stream",
     "text": [
      "   If this helps you become rich please consider donating\n",
      "ERC-20: 0x375923Bf82F0b728d23A5704261a6e16341fd860\n",
      "XRP: rK59semLsuJZEWftxBFhWuNE6uhznjz2bK\n",
      "LTC: LWpiZMd2cEyqCdrZrs9TjsouTLWbFFxwCj\n"
     ]
    },
    {
     "name": "stdout",
     "output_type": "stream",
     "text": [
      "  |======================================================================| 100%\n",
      "   user  system elapsed \n",
      "  0.272   0.012   2.806 \n"
     ]
    },
    {
     "ename": "ERROR",
     "evalue": "Error in fix.by(by.x, x): 'by' must specify a uniquely valid column\n",
     "output_type": "error",
     "traceback": [
      "Error in fix.by(by.x, x): 'by' must specify a uniquely valid column\nTraceback:\n",
      "1. crypto_history(coin = \"bitcoin\", start_date = 20180701, end_date = 20180710)",
      "2. merge(results_data, coinnames, by = \"slug\")",
      "3. merge.default(results_data, coinnames, by = \"slug\")",
      "4. merge(as.data.frame(x), as.data.frame(y), ...)",
      "5. merge.data.frame(as.data.frame(x), as.data.frame(y), ...)",
      "6. fix.by(by.x, x)",
      "7. stop(ngettext(sum(bad), \"'by' must specify a uniquely valid column\", \n .     \"'by' must specify uniquely valid columns\"), domain = NA)"
     ]
    }
   ],
   "source": [
    "library(crypto)\n",
    "\n",
    "cryptos <- crypto_history(coin = 'bitcoin', start_date = 20180701, end_date = 20180710)\n",
    "\n",
    "write.table(cryptos, \"unsere_cryptos.csv\", sep = \",\", col.names = F, append = T, row.names = F)"
   ]
  },
  {
   "cell_type": "code",
   "execution_count": null,
   "metadata": {},
   "outputs": [],
   "source": []
  }
 ],
 "metadata": {
  "kernelspec": {
   "display_name": "R",
   "language": "R",
   "name": "ir"
  },
  "language_info": {
   "codemirror_mode": "r",
   "file_extension": ".r",
   "mimetype": "text/x-r-source",
   "name": "R",
   "pygments_lexer": "r",
   "version": "3.4.3"
  }
 },
 "nbformat": 4,
 "nbformat_minor": 2
}
