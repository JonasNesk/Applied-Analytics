{
 "cells": [
  {
   "cell_type": "code",
   "execution_count": 1,
   "metadata": {},
   "outputs": [],
   "source": [
    "import pandas as pd\n",
    "import numpy as np\n",
    "import matplotlib.pyplot as plt\n",
    "from sklearn.ensemble import AdaBoostClassifier\n",
    "from sklearn.model_selection import train_test_split #library fuer Split\n",
    "from sklearn import linear_model #lineare Regression\n",
    "from sklearn import metrics \n",
    "from sklearn.metrics import roc_curve\n",
    "from sklearn.metrics import mean_squared_error\n",
    "from sklearn.metrics import confusion_matrix"
   ]
  },
  {
   "cell_type": "code",
   "execution_count": 2,
   "metadata": {},
   "outputs": [],
   "source": [
    "#Initmessage\n",
    "\n",
    "#lade von CSV\n",
    "data_frame_investigated = pd.read_csv(\"Data/crypto-markets.csv\", sep=\",\" )\n",
    "\n",
    "\n",
    "#print(\"data collected\")\n",
    "\n",
    "#print(data_frame_investigated.head())"
   ]
  },
  {
   "cell_type": "code",
   "execution_count": 3,
   "metadata": {},
   "outputs": [],
   "source": [
    "#eliminiere redundante Attribute\n",
    "REDUNDANT_ATTRIBUTES=['symbol','name'] \n",
    "data_frame_investigated.drop(REDUNDANT_ATTRIBUTES,axis=1,inplace=True) #loeschen aus Dataframe\n",
    "#print(data_frame_investigated.head())"
   ]
  },
  {
   "cell_type": "markdown",
   "metadata": {},
   "source": [
    "## Führe Label \"Trend\" ein"
   ]
  },
  {
   "cell_type": "code",
   "execution_count": 4,
   "metadata": {},
   "outputs": [],
   "source": [
    "# bestimme Trends. (1 für steigender Kurs, 0 für sinkenden Kurs)\n",
    "\n",
    "df = data_frame_investigated['close'].shift(periods=-1).to_frame()\n",
    "data_frame_investigated['close_s'] = df\n",
    "\n",
    "data_frame_investigated = data_frame_investigated[data_frame_investigated['slug'] == 'bitcoin']\n",
    "data_frame_investigated['trend'] = 5\n",
    "\n",
    "for i, r in data_frame_investigated.iterrows():\n",
    "    \n",
    "    if r[\"close\"] < r[\"close_s\"]:\n",
    "        #Kurs steigt anschließend\n",
    "        #data_frame_investigated = data_frame_investigated.set_value(index =i, col = ['trend'], value = 1)\n",
    "        data_frame_investigated.at[i, 'trend'] = 1\n",
    "    else:\n",
    "        #Kurs fällt anschließend\n",
    "        #data_frame_investigated = data_frame_investigated.set_value(index =i, col = ['trend'], value = 0)  \n",
    "        data_frame_investigated.at[i, 'trend'] = 0\n",
    "        \n",
    "#Y Wert für Klassifizierer -> Trendwerte als eigene Spalte\n",
    "data_frame_trend = data_frame_investigated['trend'].to_frame() "
   ]
  },
  {
   "cell_type": "code",
   "execution_count": 5,
   "metadata": {},
   "outputs": [
    {
     "data": {
      "text/plain": [
       "1902"
      ]
     },
     "execution_count": 5,
     "metadata": {},
     "output_type": "execute_result"
    }
   ],
   "source": [
    "np.size(data_frame_trend)"
   ]
  },
  {
   "cell_type": "markdown",
   "metadata": {},
   "source": [
    "## Adaboost Classifier"
   ]
  },
  {
   "cell_type": "code",
   "execution_count": 6,
   "metadata": {},
   "outputs": [
    {
     "name": "stdout",
     "output_type": "stream",
     "text": [
      "Score train: 0.5897136177673875\n",
      "Score test: 0.5549738219895288\n",
      "Confusion Matrix in Form: tn, fp, fn, tp \n",
      " [[228 637]\n",
      " [150 887]]\n"
     ]
    }
   ],
   "source": [
    "def cryptoclassifier(crypto_id, feature_to_compare,crypto_id_feature_name=\"slug\", documentMode=True):\n",
    "    \n",
    "    #Cryptos Gruppieren\n",
    "    \n",
    "    #ich kann nur anhand von Tagen schliessen, an denen die Crypto Existiert\n",
    "    #erstmal alle Tage holen an denen die Crypto gehandelt wird\n",
    "    dates_of_crypto_trade= data_frame_investigated[\n",
    "        data_frame_investigated[crypto_id_feature_name] == crypto_id\n",
    "    ]['date']\n",
    "    \n",
    "   \n",
    "    #print(dates_of_crypto_trade.head())\n",
    "    \n",
    "    #dann die Tupel Filtern, nur die Tage an denen Crypto getraded wird uebernehmen,\n",
    "    #nur compare feature uebernehmen\n",
    "    data_frame_id_exists= data_frame_investigated[\n",
    "        data_frame_investigated['date'].isin(dates_of_crypto_trade)\n",
    "    ][['date',crypto_id_feature_name,feature_to_compare]]\n",
    "    \n",
    "    #daten Pivotieren, so dass Cryptos zu columns werden\n",
    "    data_frame_id_exists= data_frame_id_exists.pivot(\n",
    "        index='date', columns=crypto_id_feature_name, values=feature_to_compare\n",
    "        ).reset_index()\n",
    "    \n",
    " \n",
    "    \n",
    "    data_frame_id_exists=data_frame_id_exists.fillna(value=0)\n",
    "    data_frame_id_exists=data_frame_id_exists.dropna()\n",
    "    \n",
    "   \n",
    "    #date rausloeschen\n",
    "    data_frame_id_exists.drop('date',axis=1,inplace=True)\n",
    "    #print(\"cleaned Frame\")\n",
    "    #print(data_frame_id_exists.head())\n",
    "    data_frame_for_predictions = data_frame_id_exists #copy data_frame_id_exists just for safety purposes\n",
    "    \n",
    "    #print(\"Größe data_frame_for_predictions:\", np.size(data_frame_for_predictions))\n",
    "    \n",
    "    ###############Train Test Split:\n",
    "    Y = data_frame_trend.values.ravel() #changes Y from collumn to 1d array\n",
    "    \n",
    "    #check size of Y\n",
    "    #print(np.size(Y)) \n",
    "    \n",
    "    \n",
    "    feature_train, feature_test, y_train, y_test = train_test_split (\n",
    "        data_frame_id_exists,\n",
    "        Y,\n",
    "        test_size=0.1\n",
    "    )\n",
    "\n",
    "    ##############Classifier machen\n",
    "    classifier_model = AdaBoostClassifier(\n",
    "        base_estimator=None, learning_rate=0.5, n_estimators=100, random_state=123)\n",
    "\n",
    "\n",
    "\n",
    "        #Classifier fitten\n",
    "    classifier_model.fit(feature_train, y_train) #trains Classifier with test_split\n",
    "    Score_train = classifier_model.score(feature_train,y_train) #score test score value\n",
    "    Score_test = classifier_model.score(feature_test,y_test) #model score value\n",
    "    predictions = classifier_model.predict(data_frame_for_predictions) #predicts y data on basis of classifier\n",
    "    confusionMatrix = confusion_matrix(Y, predictions)\n",
    "    \n",
    "    if documentMode: print(\"Score train:\", Score_train)\n",
    "    if documentMode: print(\"Score test:\", Score_test)\n",
    "    #if documentMode: print(\"Classifier Predictions:\", predictions)\n",
    "    if documentMode: print('Confusion Matrix in Form: tn, fp, fn, tp \\n', confusionMatrix)\n",
    "\n",
    "    #dont delete values\n",
    "    return [classifier_model,\n",
    "            Score_train,\n",
    "            Score_test,\n",
    "            feature_train,\n",
    "            y_train,\n",
    "            feature_test,\n",
    "            y_test,\n",
    "            list(data_frame_id_exists),\n",
    "            list(predictions),\n",
    "            Y,\n",
    "            predictions\n",
    "           ]\n",
    "\n",
    "\n",
    "#Hier können Parameter übergeben werden: \n",
    "#auf Basis welches Parameters der anderen Coins ('close', 'spread', 'volume', etc.) soll klassifiziert werden?\n",
    "classifier_result=cryptoclassifier('bitcoin','close') "
   ]
  },
  {
   "cell_type": "markdown",
   "metadata": {},
   "source": [
    "## ROC Kurve\n"
   ]
  },
  {
   "cell_type": "code",
   "execution_count": 9,
   "metadata": {},
   "outputs": [
    {
     "name": "stdout",
     "output_type": "stream",
     "text": [
      "[0.         0.85535198 1.        ]\n",
      "[0.         0.73641618 1.        ]\n",
      "[2 1 0]\n"
     ]
    }
   ],
   "source": [
    "from sklearn.metrics import roc_curve\n",
    "from sklearn.metrics import auc\n",
    "\n",
    "# Compute fpr, tpr, thresholds and roc auc\n",
    "fpr, tpr, thresholds = roc_curve(classifier_result[9], classifier_result[10])\n",
    "roc_auc = auc(fpr,tpr)\n",
    "\n",
    "print(tpr)\n",
    "print(fpr)\n",
    "print(thresholds)"
   ]
  },
  {
   "cell_type": "code",
   "execution_count": 8,
   "metadata": {},
   "outputs": [
    {
     "data": {
      "image/png": "[encoded data removed]",
      "text/plain": [
       "<matplotlib.figure.Figure at 0x1a18901b70>"
      ]
     },
     "metadata": {},
     "output_type": "display_data"
    }
   ],
   "source": [
    "# Plot ROC curve\n",
    "plt.plot(fpr, tpr, label='ROC curve (area = %0.3f)' % roc_auc)\n",
    "plt.plot([0, 1], [0, 1], 'k--')  # random predictions curve\n",
    "plt.xlim([0.0, 1.0])\n",
    "plt.ylim([0.0, 1.0])\n",
    "plt.xlabel('False Positive Rate')\n",
    "plt.ylabel('True Positive Rate')\n",
    "plt.title('Receiver Operating Characteristic')\n",
    "plt.legend(loc=\"lower right\")\n",
    "plt.savefig(\"figures/ROC_AdaBoost_bitcoin\", bbox_inches=\"tight\", dpi=200)\n",
    "plt.show()"
   ]
  },
  {
   "cell_type": "markdown",
   "metadata": {},
   "source": [
    "## Classifier Score mit sich verändernder learning rate [0.05 , 1"
   ]
  },
  {
   "cell_type": "code",
   "execution_count": 2,
   "metadata": {},
   "outputs": [
    {
     "ename": "NameError",
     "evalue": "name 'np' is not defined",
     "output_type": "error",
     "traceback": [
      "\u001b[0;31m---------------------------------------------------------------------------\u001b[0m",
      "\u001b[0;31mNameError\u001b[0m                                 Traceback (most recent call last)",
      "\u001b[0;32m<ipython-input-2-b519d3dcdcdb>\u001b[0m in \u001b[0;36m<module>\u001b[0;34m()\u001b[0m\n\u001b[1;32m      2\u001b[0m \u001b[0mlist_adascores\u001b[0m \u001b[0;34m=\u001b[0m \u001b[0;34m[\u001b[0m\u001b[0;34m]\u001b[0m\u001b[0;34m\u001b[0m\u001b[0m\n\u001b[1;32m      3\u001b[0m \u001b[0;34m\u001b[0m\u001b[0m\n\u001b[0;32m----> 4\u001b[0;31m \u001b[0;32mfor\u001b[0m \u001b[0ml_rate\u001b[0m \u001b[0;32min\u001b[0m \u001b[0mnp\u001b[0m\u001b[0;34m.\u001b[0m\u001b[0marange\u001b[0m\u001b[0;34m(\u001b[0m\u001b[0;36m0.05\u001b[0m\u001b[0;34m,\u001b[0m\u001b[0;36m1\u001b[0m\u001b[0;34m,\u001b[0m\u001b[0;36m0.05\u001b[0m\u001b[0;34m)\u001b[0m\u001b[0;34m:\u001b[0m\u001b[0;34m\u001b[0m\u001b[0m\n\u001b[0m\u001b[1;32m      5\u001b[0m \u001b[0;34m\u001b[0m\u001b[0m\n\u001b[1;32m      6\u001b[0m     classifier_model = AdaBoostClassifier(\n",
      "\u001b[0;31mNameError\u001b[0m: name 'np' is not defined"
     ]
    }
   ],
   "source": [
    "#For each learning rate new clasifier run\n",
    "list_adascores = []\n",
    "\n",
    "for l_rate in np.arange(0.05,1,0.05):\n",
    "    \n",
    "    classifier_model = AdaBoostClassifier(\n",
    "        base_estimator=None, learning_rate=l_rate, n_estimators=100, random_state=123)\n",
    "    \n",
    "    classifier_model.fit(classifier_result[3], classifier_result[4]) #trains Classifier with test_split\n",
    "    Score_test = classifier_model.score(classifier_result[5], classifier_result[6]) #model score value\n",
    "    \n",
    "    list_adascores.append(Score_test)\n",
    "    \n",
    "print(list_adascores)"
   ]
  },
  {
   "cell_type": "code",
   "execution_count": null,
   "metadata": {},
   "outputs": [],
   "source": []
  }
 ],
 "metadata": {
  "kernelspec": {
   "display_name": "Python 3",
   "language": "python",
   "name": "python3"
  },
  "language_info": {
   "codemirror_mode": {
    "name": "ipython",
    "version": 3
   },
   "file_extension": ".py",
   "mimetype": "text/x-python",
   "name": "python",
   "nbconvert_exporter": "python",
   "pygments_lexer": "ipython3",
   "version": "3.6.4"
  }
 },
 "nbformat": 4,
 "nbformat_minor": 2
}
