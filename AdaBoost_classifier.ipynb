{
 "cells": [
  {
   "cell_type": "code",
   "execution_count": 47,
   "metadata": {},
   "outputs": [],
   "source": [
    "import pandas as pd\n",
    "import numpy as np\n",
    "import matplotlib.pyplot as plt\n",
    "from sklearn.ensemble import AdaBoostClassifier\n",
    "from sklearn.model_selection import train_test_split #library fuer Split\n",
    "from sklearn import linear_model #lineare Regression\n",
    "from sklearn import metrics \n",
    "from sklearn.metrics import roc_curve\n",
    "from sklearn.metrics import mean_squared_error\n",
    "from sklearn.metrics import confusion_matrix"
   ]
  },
  {
   "cell_type": "code",
   "execution_count": 48,
   "metadata": {},
   "outputs": [],
   "source": [
    "#Initmessage\n",
    "\n",
    "#lade von CSV\n",
    "data_frame_investigated = pd.read_csv(\"Data/crypto-markets.csv\", sep=\",\" )\n",
    "\n",
    "\n",
    "#print(\"data collected\")\n",
    "\n",
    "#print(data_frame_investigated.head())"
   ]
  },
  {
   "cell_type": "code",
   "execution_count": 49,
   "metadata": {},
   "outputs": [],
   "source": [
    "#eliminiere redundante Attribute\n",
    "REDUNDANT_ATTRIBUTES=['symbol','name'] \n",
    "data_frame_investigated.drop(REDUNDANT_ATTRIBUTES,axis=1,inplace=True) #loeschen aus Dataframe\n",
    "#print(data_frame_investigated.head())"
   ]
  },
  {
   "cell_type": "markdown",
   "metadata": {},
   "source": [
    "## Führe Label \"Trend\" ein"
   ]
  },
  {
   "cell_type": "code",
   "execution_count": 50,
   "metadata": {},
   "outputs": [],
   "source": [
    "# bestimme Trends. (1 für steigender Kurs, 0 für sinkenden Kurs)\n",
    "\n",
    "df = data_frame_investigated['close'].shift(periods=-1).to_frame() #hier kann der Parmeter üergeben werde, für den der Trend erstellt wird\n",
    "data_frame_investigated['close_s'] = df\n",
    "\n",
    "data_frame_investigated = data_frame_investigated[data_frame_investigated['slug'] == 'bitcoin']\n",
    "data_frame_investigated['trend'] = 5\n",
    "\n",
    "for i, r in data_frame_investigated.iterrows():\n",
    "    \n",
    "    if r[\"close\"] < r[\"close_s\"]:\n",
    "        #Kurs steigt anschließend\n",
    "        #data_frame_investigated = data_frame_investigated.set_value(index =i, col = ['trend'], value = 1)\n",
    "        data_frame_investigated.at[i, 'trend'] = 1\n",
    "    else:\n",
    "        #Kurs fällt anschließend\n",
    "        #data_frame_investigated = data_frame_investigated.set_value(index =i, col = ['trend'], value = 0)  \n",
    "        data_frame_investigated.at[i, 'trend'] = 0\n",
    "        \n",
    "#Y Wert für Klassifizierer -> Trendwerte als eigene Spalte\n",
    "data_frame_trend = data_frame_investigated['trend'].to_frame() "
   ]
  },
  {
   "cell_type": "code",
   "execution_count": 51,
   "metadata": {},
   "outputs": [
    {
     "data": {
      "text/plain": [
       "1902"
      ]
     },
     "execution_count": 51,
     "metadata": {},
     "output_type": "execute_result"
    }
   ],
   "source": [
    "np.size(data_frame_trend)"
   ]
  },
  {
   "cell_type": "markdown",
   "metadata": {},
   "source": [
    "## Adaboost Classifier"
   ]
  },
  {
   "cell_type": "code",
   "execution_count": 71,
   "metadata": {},
   "outputs": [
    {
     "name": "stdout",
     "output_type": "stream",
     "text": [
      "Score train: 0.5827001753360608\n",
      "Score test: 0.5602094240837696\n",
      "Bias: 0.8144058885383807\n",
      "Confusion Matrix in Form: tn, fp, fn, tp \n",
      " [[210 655]\n",
      " [143 894]]\n"
     ]
    },
    {
     "data": {
      "image/png": "[encoded data removed]",
      "text/plain": [
       "<matplotlib.figure.Figure at 0x1090e5f98>"
      ]
     },
     "metadata": {},
     "output_type": "display_data"
    }
   ],
   "source": [
    "def cryptoclassifier(crypto_id, feature_to_compare,crypto_id_feature_name=\"slug\", documentMode=True):\n",
    "    \n",
    "    #Cryptos Gruppieren\n",
    "    \n",
    "    #ich kann nur anhand von Tagen schliessen, an denen die Crypto Existiert\n",
    "    #erstmal alle Tage holen an denen die Crypto gehandelt wird\n",
    "    dates_of_crypto_trade= data_frame_investigated[\n",
    "        data_frame_investigated[crypto_id_feature_name] == crypto_id\n",
    "    ]['date']\n",
    "    \n",
    "   \n",
    "    #print(dates_of_crypto_trade.head())\n",
    "    \n",
    "    #dann die Tupel Filtern, nur die Tage an denen Crypto getraded wird uebernehmen,\n",
    "    #nur compare feature uebernehmen\n",
    "    data_frame_id_exists= data_frame_investigated[\n",
    "        data_frame_investigated['date'].isin(dates_of_crypto_trade)\n",
    "    ][['date',crypto_id_feature_name,feature_to_compare]]\n",
    "    \n",
    "    #daten Pivotieren, so dass Cryptos zu columns werden\n",
    "    data_frame_id_exists= data_frame_id_exists.pivot(\n",
    "        index='date', columns=crypto_id_feature_name, values=feature_to_compare\n",
    "        ).reset_index()\n",
    "    \n",
    " \n",
    "    \n",
    "    data_frame_id_exists=data_frame_id_exists.fillna(value=0)\n",
    "    data_frame_id_exists=data_frame_id_exists.dropna()\n",
    "    \n",
    "   \n",
    "    #date rausloeschen\n",
    "    data_frame_id_exists.drop('date',axis=1,inplace=True)\n",
    "    #print(\"cleaned Frame\")\n",
    "    #print(data_frame_id_exists.head())\n",
    "    data_frame_for_predictions = data_frame_id_exists #copy data_frame_id_exists just for safety purposes\n",
    "    \n",
    "    #print(\"Größe data_frame_for_predictions:\", np.size(data_frame_for_predictions))\n",
    "    \n",
    "    ###############Train Test Split:\n",
    "    Y = data_frame_trend.values.ravel() #changes Y from collumn to 1d array\n",
    "    \n",
    "    #check size of Y\n",
    "    #print(np.size(Y)) \n",
    "    \n",
    "    \n",
    "    feature_train, feature_test, y_train, y_test = train_test_split (\n",
    "        data_frame_id_exists,\n",
    "        Y,\n",
    "        test_size=0.1\n",
    "    )\n",
    "\n",
    "    ##############Classifier machen\n",
    "    classifier_model = AdaBoostClassifier(\n",
    "        base_estimator=None, learning_rate=0.5, n_estimators=100, random_state=123)\n",
    "\n",
    "\n",
    "\n",
    "        #Classifier fitten\n",
    "    classifier_model.fit(feature_train, y_train) #trains Classifier with test_split\n",
    "    Score_train = classifier_model.score(feature_train,y_train) #score test score value\n",
    "    Score_test = classifier_model.score(feature_test,y_test) #model score value\n",
    "    predictions = classifier_model.predict(data_frame_for_predictions) #predicts y data on basis of classifier\n",
    "    confusionMatrix = confusion_matrix(Y, predictions)\n",
    "    Bias = ((confusionMatrix[1][1]+confusionMatrix[0][1])/(confusionMatrix[0][0]+confusionMatrix[0][1]+confusionMatrix[1][0]+confusionMatrix[1][1]))\n",
    "    \n",
    "    if documentMode: print(\"Score train:\", Score_train)\n",
    "    if documentMode: print(\"Score test:\", Score_test)\n",
    "    if documentMode: print(\"Bias:\", Bias)\n",
    "    #if documentMode: print(\"Classifier Predictions:\", predictions)\n",
    "    if documentMode: print('Confusion Matrix in Form: tn, fp, fn, tp \\n', confusionMatrix)\n",
    "\n",
    "    #dont delete values\n",
    "    return [classifier_model,\n",
    "            Score_train,\n",
    "            Score_test,\n",
    "            feature_train,\n",
    "            y_train,\n",
    "            feature_test,\n",
    "            y_test,\n",
    "            list(data_frame_id_exists),\n",
    "            list(predictions),\n",
    "            Y,\n",
    "            predictions,\n",
    "            confusionMatrix\n",
    "           ]\n",
    "\n",
    "\n",
    "#Hier können Parameter übergeben werden: \n",
    "#auf Basis welches Parameters der anderen Coins ('close', 'spread', 'volume', etc.) soll klassifiziert werden?\n",
    "classifier_result=cryptoclassifier('bitcoin','close')\n",
    "\n",
    "\n",
    "\n",
    "\n",
    "def plot_confusion_matrix(cm, classes,\n",
    "                          title='Confusion matrix',\n",
    "                          cmap=plt.cm.Blues):\n",
    "   \n",
    "    import itertools\n",
    "    plt.imshow(cm, interpolation='nearest', cmap=cmap)\n",
    "    plt.title(title)\n",
    "    plt.colorbar()\n",
    "    tick_marks = np.arange(len(classes))\n",
    "    plt.xticks(tick_marks, classes, rotation=45)\n",
    "    plt.yticks(tick_marks, classes)\n",
    "\n",
    "    fmt = 'd'\n",
    "    thresh = cm.max() / 2.\n",
    "    for i, j in itertools.product(range(cm.shape[0]), range(cm.shape[1])):\n",
    "        plt.text(j, i, format(cm[i, j], fmt),\n",
    "                 horizontalalignment=\"center\",\n",
    "                 color=\"white\" if cm[i, j] > thresh else \"black\")\n",
    "\n",
    "    plt.tight_layout()\n",
    "    plt.ylabel('True label')\n",
    "    plt.xlabel('Predicted label')\n",
    "\n",
    "# Compute confusion matrix\n",
    "cnf_matrix = confusion_matrix(classifier_result[9], classifier_result[10])\n",
    "np.set_printoptions(precision=2)\n",
    "\n",
    "plot_confusion_matrix(cnf_matrix, \n",
    "                      classes=['False', 'True'],\n",
    "                      title='Confusion matrix')\n",
    "\n",
    "#plt.savefig('confusion.png', dpi=300)"
   ]
  },
  {
   "cell_type": "markdown",
   "metadata": {},
   "source": [
    "## ROC Kurve\n"
   ]
  },
  {
   "cell_type": "code",
   "execution_count": 53,
   "metadata": {},
   "outputs": [
    {
     "name": "stdout",
     "output_type": "stream",
     "text": [
      "[0.         0.84956606 1.        ]\n",
      "[0.        0.7433526 1.       ]\n",
      "[2 1 0]\n"
     ]
    }
   ],
   "source": [
    "from sklearn.metrics import roc_curve\n",
    "from sklearn.metrics import auc\n",
    "\n",
    "# Compute fpr, tpr, thresholds and roc auc\n",
    "fpr, tpr, thresholds = roc_curve(classifier_result[9], classifier_result[10])\n",
    "roc_auc = auc(fpr,tpr)\n",
    "\n",
    "print(tpr)\n",
    "print(fpr)\n",
    "print(thresholds)"
   ]
  },
  {
   "cell_type": "code",
   "execution_count": 54,
   "metadata": {},
   "outputs": [
    {
     "data": {
      "image/png": "[encoded data removed]",
      "text/plain": [
       "<matplotlib.figure.Figure at 0x1a0c39d898>"
      ]
     },
     "metadata": {},
     "output_type": "display_data"
    }
   ],
   "source": [
    "# Plot ROC curve\n",
    "plt.plot(fpr, tpr, label='ROC curve (area = %0.3f)' % roc_auc)\n",
    "plt.plot([0, 1], [0, 1], 'k--')  # random predictions curve\n",
    "plt.xlim([0.0, 1.0])\n",
    "plt.ylim([0.0, 1.0])\n",
    "plt.xlabel('False Positive Rate')\n",
    "plt.ylabel('True Positive Rate')\n",
    "plt.title('Receiver Operating Characteristic')\n",
    "plt.legend(loc=\"lower right\")\n",
    "#plt.savefig(\"figures/ROC_AdaBoost_bitcoin\", bbox_inches=\"tight\", dpi=200)\n",
    "plt.show()"
   ]
  },
  {
   "cell_type": "markdown",
   "metadata": {},
   "source": [
    "## Classifier Score mit sich verändernder learning rate [0.05 , 1"
   ]
  },
  {
   "cell_type": "code",
   "execution_count": 55,
   "metadata": {},
   "outputs": [
    {
     "name": "stdout",
     "output_type": "stream",
     "text": [
      "[0.6073298429319371, 0.5497382198952879, 0.5497382198952879, 0.5497382198952879, 0.5602094240837696, 0.5602094240837696, 0.5602094240837696, 0.5602094240837696, 0.5602094240837696, 0.5602094240837696, 0.5549738219895288, 0.5549738219895288, 0.5549738219895288, 0.5549738219895288, 0.5549738219895288, 0.5549738219895288, 0.5549738219895288, 0.5549738219895288, 0.5445026178010471]\n"
     ]
    }
   ],
   "source": [
    "#For each learning rate new clasifier run\n",
    "list_adascores = []\n",
    "\n",
    "for l_rate in np.arange(0.05,1,0.05):\n",
    "    \n",
    "    classifier_model = AdaBoostClassifier(\n",
    "        base_estimator=None, learning_rate=l_rate, n_estimators=100, random_state=123)\n",
    "    \n",
    "    classifier_model.fit(classifier_result[3], classifier_result[4]) #trains Classifier with test_split\n",
    "    Score_test = classifier_model.score(classifier_result[5], classifier_result[6]) #model score value\n",
    "    \n",
    "    list_adascores.append(Score_test)\n",
    "    \n",
    "print(list_adascores)"
   ]
  }
 ],
 "metadata": {
  "kernelspec": {
   "display_name": "Python 3",
   "language": "python",
   "name": "python3"
  },
  "language_info": {
   "codemirror_mode": {
    "name": "ipython",
    "version": 3
   },
   "file_extension": ".py",
   "mimetype": "text/x-python",
   "name": "python",
   "nbconvert_exporter": "python",
   "pygments_lexer": "ipython3",
   "version": "3.6.4"
  }
 },
 "nbformat": 4,
 "nbformat_minor": 2
}
