{
 "cells": [
  {
   "cell_type": "code",
   "execution_count": 5,
   "metadata": {},
   "outputs": [],
   "source": [
    "import pandas as pd\n",
    "import numpy as np\n",
    "import matplotlib.pyplot as plt\n",
    "from sklearn.ensemble import AdaBoostClassifier"
   ]
  },
  {
   "cell_type": "code",
   "execution_count": 6,
   "metadata": {},
   "outputs": [
    {
     "name": "stdout",
     "output_type": "stream",
     "text": [
      "starting Regression\n",
      "data collected\n",
      "      slug symbol     name        date  ranknow    open    high     low  \\\n",
      "0  bitcoin    BTC  Bitcoin  2013-04-28        1  135.30  135.98  132.10   \n",
      "1  bitcoin    BTC  Bitcoin  2013-04-29        1  134.44  147.49  134.00   \n",
      "2  bitcoin    BTC  Bitcoin  2013-04-30        1  144.00  146.93  134.05   \n",
      "3  bitcoin    BTC  Bitcoin  2013-05-01        1  139.00  139.89  107.72   \n",
      "4  bitcoin    BTC  Bitcoin  2013-05-02        1  116.38  125.60   92.28   \n",
      "\n",
      "    close  volume        market  close_ratio  spread  \n",
      "0  134.21     0.0  1.500520e+09       0.5438    3.88  \n",
      "1  144.54     0.0  1.491160e+09       0.7813   13.49  \n",
      "2  139.00     0.0  1.597780e+09       0.3843   12.88  \n",
      "3  116.99     0.0  1.542820e+09       0.2882   32.17  \n",
      "4  105.21     0.0  1.292190e+09       0.3881   33.32  \n"
     ]
    }
   ],
   "source": [
    "#Initmessage\n",
    "print (\"starting Regression\") \n",
    "\n",
    "#lade von CSV\n",
    "data_frame_investigated = pd.read_csv(\"Data/crypto-markets.csv\", sep=\",\" )\n",
    "\n",
    "\n",
    "print(\"data collected\")\n",
    "\n",
    "print(data_frame_investigated.head())"
   ]
  },
  {
   "cell_type": "code",
   "execution_count": 7,
   "metadata": {},
   "outputs": [
    {
     "name": "stdout",
     "output_type": "stream",
     "text": [
      "      slug        date  ranknow    open    high     low   close  volume  \\\n",
      "0  bitcoin  2013-04-28        1  135.30  135.98  132.10  134.21     0.0   \n",
      "1  bitcoin  2013-04-29        1  134.44  147.49  134.00  144.54     0.0   \n",
      "2  bitcoin  2013-04-30        1  144.00  146.93  134.05  139.00     0.0   \n",
      "3  bitcoin  2013-05-01        1  139.00  139.89  107.72  116.99     0.0   \n",
      "4  bitcoin  2013-05-02        1  116.38  125.60   92.28  105.21     0.0   \n",
      "\n",
      "         market  close_ratio  spread  \n",
      "0  1.500520e+09       0.5438    3.88  \n",
      "1  1.491160e+09       0.7813   13.49  \n",
      "2  1.597780e+09       0.3843   12.88  \n",
      "3  1.542820e+09       0.2882   32.17  \n",
      "4  1.292190e+09       0.3881   33.32  \n"
     ]
    }
   ],
   "source": [
    "#eliminiere redundante Attribute\n",
    "REDUNDANT_ATTRIBUTES=['symbol','name'] \n",
    "data_frame_investigated.drop(REDUNDANT_ATTRIBUTES,axis=1,inplace=True) #loeschen aus Dataframe\n",
    "\n",
    "#set Date as Index\n",
    "\n",
    "\n",
    "print(data_frame_investigated.head())"
   ]
  },
  {
   "cell_type": "code",
   "execution_count": 8,
   "metadata": {},
   "outputs": [],
   "source": [
    "# bestimme Trends\n",
    "\n",
    "df = data_frame_investigated['close'].shift(periods=-1).to_frame()\n",
    "data_frame_investigated['close_s'] = df\n",
    "\n",
    "data_frame_investigated = data_frame_investigated[data_frame_investigated['slug'] == 'bitcoin']\n",
    "data_frame_investigated['trend'] = 5\n",
    "\n",
    "for i, r in data_frame_investigated.iterrows():\n",
    "    \n",
    "    if r[\"close\"] < r[\"close_s\"]:\n",
    "        #Kurs steigt anschließend\n",
    "        #data_frame_investigated = data_frame_investigated.set_value(index =i, col = ['trend'], value = 1)\n",
    "        data_frame_investigated.at[i, 'trend'] = 1\n",
    "    else:\n",
    "        #Kurs fällt anschließend\n",
    "        #data_frame_investigated = data_frame_investigated.set_value(index =i, col = ['trend'], value = 0)  \n",
    "        data_frame_investigated.at[i, 'trend'] = 0\n",
    "        \n",
    "#Y Wert für Klassifizierer -> Trendwerte als eigene Spalte\n",
    "data_frame_trend = data_frame_investigated['trend'].to_frame() \n"
   ]
  },
  {
   "cell_type": "code",
   "execution_count": 9,
   "metadata": {},
   "outputs": [
    {
     "data": {
      "text/plain": [
       "1793"
      ]
     },
     "execution_count": 9,
     "metadata": {},
     "output_type": "execute_result"
    }
   ],
   "source": [
    "np.size(data_frame_trend)"
   ]
  },
  {
   "cell_type": "code",
   "execution_count": 33,
   "metadata": {},
   "outputs": [
    {
     "name": "stdout",
     "output_type": "stream",
     "text": [
      "Score test: 0.5777777777777777\n",
      "Confusion Matrix: tn, fp, fn, tp [[217 596]\n",
      " [160 820]]\n",
      "true positive rate: [0.         0.83673469 1.        ]\n",
      "false positive rate: [0.         0.73308733 1.        ]\n"
     ]
    }
   ],
   "source": [
    "from sklearn.model_selection import train_test_split #library fuer Split\n",
    "from sklearn import linear_model #lineare Regression\n",
    "import math #import fuer msqError\n",
    "from sklearn import metrics \n",
    "from sklearn.metrics import roc_curve\n",
    "from sklearn.metrics import mean_squared_error\n",
    "from sklearn.metrics import confusion_matrix\n",
    "\n",
    "\n",
    "#dependency :patsy\n",
    "\n",
    "def cryptoclassifier(crypto_id, feature_to_compare,crypto_id_feature_name=\"slug\", documentMode=True):\n",
    "    \"\"\"\n",
    "    Classifier zur Bestimmung eines Features anhand gleichen Features der anderen Cryptos\n",
    "    \"\"\"\n",
    "    #Cryptos Gruppieren\n",
    "    \n",
    "    #ich kann nur anhand von Tagen schliessen, an denen die Crypto Existiert\n",
    "    #erstmal alle Tage holen an denen die Crypto gehandelt wird\n",
    "    dates_of_crypto_trade= data_frame_investigated[\n",
    "        data_frame_investigated[crypto_id_feature_name] == crypto_id\n",
    "    ]['date']\n",
    "    \n",
    "   \n",
    "    #print(dates_of_crypto_trade.head())\n",
    "    \n",
    "    #dann die Tupel Filtern, nur die Tage an denen Crypto getraded wird uebernehmen,\n",
    "    #nur compare feature uebernehmen\n",
    "    data_frame_id_exists= data_frame_investigated[\n",
    "        data_frame_investigated['date'].isin(dates_of_crypto_trade)\n",
    "    ][['date',crypto_id_feature_name,feature_to_compare]]\n",
    "    \n",
    "    #daten Pivotieren so dass Cryptos zu columns werden\n",
    "    data_frame_id_exists= data_frame_id_exists.pivot(\n",
    "        index='date', columns=crypto_id_feature_name, values=feature_to_compare\n",
    "        ).reset_index()\n",
    "    \n",
    " \n",
    "    \n",
    "    data_frame_id_exists=data_frame_id_exists.fillna(value=0)\n",
    "    data_frame_id_exists=data_frame_id_exists.dropna()\n",
    "    \n",
    "   \n",
    "    #date rausloeschen\n",
    "    data_frame_id_exists.drop('date',axis=1,inplace=True)\n",
    "    #print(\"cleaned Frame\")\n",
    "    #print(data_frame_id_exists.head())\n",
    "    data_frame_for_predictions = data_frame_id_exists #copy data_frame_id_exists just for safety purposes\n",
    "    \n",
    "    #print(\"Größe data_frame_for_predictions:\", np.size(data_frame_for_predictions))\n",
    "    \n",
    "    ###############Train Test Split:\n",
    "    Y = data_frame_trend.values.ravel() #changes Y from collumn to 1d array\n",
    "    \n",
    "    #print(np.size(Y)) #check size of Y\n",
    "    \n",
    "    \n",
    "    feature_train, feature_test, y_train, y_test = train_test_split (\n",
    "        data_frame_id_exists,\n",
    "        Y,\n",
    "        test_size=0.1\n",
    "    )\n",
    "\n",
    "    ##############Classifier machen\n",
    "    classifier_model = AdaBoostClassifier(\n",
    "        base_estimator=None, learning_rate=0.5, n_estimators=100, random_state=None)\n",
    "\n",
    "\n",
    "\n",
    "        #Classifier fitten\n",
    "    classifier_model.fit(feature_train, y_train)\n",
    "    predictions = classifier_model.predict(data_frame_for_predictions)\n",
    "    #Score_train = classifier_model.score(feature_train,y_train) #score test score value\n",
    "    Score_test = classifier_model.score(feature_test,y_test) #model score value\n",
    "    Confusion_matrix = confusion_matrix(Y,predictions) #returns confusion matrix\n",
    "    fpr, tpr, thresholds = roc_curve(Y,predictions, pos_label=None, sample_weight=None, drop_intermediate=True)\n",
    "                                    \n",
    "    #if documentMode: print(\"Score train:\", Score_train)\n",
    "    if documentMode: print(\"Score test:\", Score_test)\n",
    "    #if documentMode: print(\"Classifier Predictions:\", predictions)\n",
    "    if documentMode: print(\"Confusion Matrix: tn, fp, fn, tp\", Confusion_matrix)\n",
    "    if documentMode: print(\"true positive rate:\", tpr)\n",
    "    if documentMode: print(\"false positive rate:\", fpr)\n",
    "    \n",
    "    return [classifier_model,\n",
    "            #Score_train,\n",
    "            Score_test,\n",
    "            list(data_frame_id_exists),\n",
    "            list(predictions),\n",
    "            Confusion_matrix,\n",
    "            fpr, tpr\n",
    "           ]\n",
    "\n",
    "\n",
    "#Hier können Parameter übergeben werden: Welcher Coin und auf was wird klassifiziert\n",
    "classifier_result=cryptoclassifier('bitcoin','close') \n",
    "\n"
   ]
  },
  {
   "cell_type": "code",
   "execution_count": null,
   "metadata": {},
   "outputs": [],
   "source": [
    "list_AdaBoost = []\n",
    "\n",
    "zaehler=0\n",
    "for current_run in range(10):\n",
    "    list_regression.append(\n",
    "        {\n",
    "            'Score Test:' cryptoclassifier()\n",
    "            'True Positive Rate': cryptoclassifier(current_classifier,'close')[5] \n",
    "            'Score Test': cryptoclassifier(current_classifier,'close')[3] \n",
    "        }) #fuege ergebnis zur Ergebnistabelle hinzu\n",
    "    zaehler=zaehler+1"
   ]
  },
  {
   "cell_type": "code",
   "execution_count": 34,
   "metadata": {},
   "outputs": [
    {
     "ename": "SyntaxError",
     "evalue": "invalid syntax (<ipython-input-34-cfeb0471b688>, line 14)",
     "output_type": "error",
     "traceback": [
      "\u001b[0;36m  File \u001b[0;32m\"<ipython-input-34-cfeb0471b688>\"\u001b[0;36m, line \u001b[0;32m14\u001b[0m\n\u001b[0;31m    'True Positive Rate': cryptoclassifier(current_classifier,'close')[5]\u001b[0m\n\u001b[0m                       ^\u001b[0m\n\u001b[0;31mSyntaxError\u001b[0m\u001b[0;31m:\u001b[0m invalid syntax\n"
     ]
    }
   ],
   "source": [
    "#Liste aller classifier\n",
    "classifier = [AdaBoostClassifier,\n",
    "              RandomForestClassifier\n",
    "    \n",
    "]\n",
    "\n",
    "#Iteriere über verschiedene n_estimators und learning rates\n",
    "list_classifier = []\n",
    "zaehler=0\n",
    "for current_classifier in classifier:\n",
    "    list_classifier.append(\n",
    "        {\n",
    "            'name':current_classifier\n",
    "            'True Positive Rate': cryptoclassifier(current_classifier,'close')[5] \n",
    "            'Score Test': cryptoclassifier(current_classifier,'close')[3] \n",
    "        }) #fuege ergebnis zur Ergebnistabelle hinzu\n",
    "    zaehler=zaehler+1\n",
    "    print(\"regressed Number \", zaehler, \" von \", len(different_coins))\n",
    "    if zaehler == 1300: break\n",
    "    \n",
    "zaehler= 0\n",
    "df_regression_result=pd.DataFrame(list_regression)\n",
    "print(df_regression_result)"
   ]
  },
  {
   "cell_type": "code",
   "execution_count": null,
   "metadata": {},
   "outputs": [],
   "source": []
  },
  {
   "cell_type": "code",
   "execution_count": 36,
   "metadata": {},
   "outputs": [
    {
     "data": {
      "text/plain": [
       "array([1, 1, 1, ..., 0, 0, 0])"
      ]
     },
     "execution_count": 36,
     "metadata": {},
     "output_type": "execute_result"
    }
   ],
   "source": [
    "Y = np.random.randint(2, size=1793)\n",
    "Y"
   ]
  },
  {
   "cell_type": "code",
   "execution_count": null,
   "metadata": {},
   "outputs": [],
   "source": []
  }
 ],
 "metadata": {
  "kernelspec": {
   "display_name": "Python 3",
   "language": "python",
   "name": "python3"
  },
  "language_info": {
   "codemirror_mode": {
    "name": "ipython",
    "version": 3
   },
   "file_extension": ".py",
   "mimetype": "text/x-python",
   "name": "python",
   "nbconvert_exporter": "python",
   "pygments_lexer": "ipython3",
   "version": "3.6.4"
  }
 },
 "nbformat": 4,
 "nbformat_minor": 2
}
